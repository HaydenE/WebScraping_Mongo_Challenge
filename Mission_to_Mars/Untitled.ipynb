{
 "cells": [
  {
   "cell_type": "code",
   "execution_count": 9,
   "metadata": {},
   "outputs": [],
   "source": [
    "import pymongo"
   ]
  },
  {
   "cell_type": "code",
   "execution_count": 10,
   "metadata": {},
   "outputs": [],
   "source": [
    "conn = 'mongodb://localhost:27017'\n",
    "client = pymongo.MongoClient(conn)"
   ]
  },
  {
   "cell_type": "code",
   "execution_count": 22,
   "metadata": {},
   "outputs": [],
   "source": [
    "db = client.mars_db\n",
    "collection = db.data"
   ]
  },
  {
   "cell_type": "code",
   "execution_count": 25,
   "metadata": {},
   "outputs": [
    {
     "data": {
      "text/plain": [
       "[{'_id': ObjectId('5daf7dddd535703149d4cdf5'),\n",
       "  'titles': ['\\n\\nNASA Invites Students to Name Mars 2020 Rover\\n\\n',\n",
       "   \"\\n\\nNASA's Curiosity Mars Rover Finds a Clay Cache\\n\\n\",\n",
       "   '\\n\\nWhy This Martian Full Moon Looks Like Candy\\n\\n',\n",
       "   '\\n\\nNASA Garners 7 Webby Award Nominations\\n\\n',\n",
       "   \"\\n\\nNASA's Opportunity Rover Mission on Mars Comes to End\\n\\n\",\n",
       "   \"\\n\\nNASA's InSight Places First Instrument on Mars\\n\\n\"],\n",
       "  'blurbs': [\"\\nThrough Nov. 1, K-12 students in the U.S. are encouraged to enter an essay contest to name NASA's next Mars rover.\\n\",\n",
       "   '\\nThe rover recently drilled two samples, and both showed the highest levels of clay ever found during the mission.\\n',\n",
       "   \"\\nFor the first time, NASA's Mars Odyssey orbiter has caught the Martian moon Phobos during a full moon phase. Each color in this new image represents a temperature range detected by Odyssey's infrared camera.\\n\",\n",
       "   '\\nNominees include four JPL projects: the solar system and climate websites, InSight social media, and a 360-degree Earth video. Public voting closes April 18, 2019.\\n',\n",
       "   \"\\nNASA's Opportunity Mars rover mission is complete after 15 years on Mars. Opportunity's record-breaking exploration laid the groundwork for future missions to the Red Planet.\\n\",\n",
       "   '\\nIn deploying its first instrument onto the surface of Mars, the lander completes a major mission milestone.\\n'],\n",
       "  'image': 'https://www.jpl.nasa.gov/spaceimages/images/largesize/PIA16883_hires.jpg',\n",
       "  'weather': 'InSight sol 320 (2019-10-21) low -102.4ºC (-152.3ºF) high -25.6ºC (-14.0ºF)\\nwinds from the SSE at 4.7 m/s (10.5 mph) gusting to 18.5 m/s (41.4 mph)\\npressure at 7.10 hPapic.twitter.com/TxQmtXP7xo',\n",
       "  'planet_info': '[{\"Mars - Earth Comparison\":\"Diameter:\",\"Mars\":\"6,779 km\",\"Earth\":\"12,742 km\"},{\"Mars - Earth Comparison\":\"Mass:\",\"Mars\":\"6.39 \\\\u00d7 10^23 kg\",\"Earth\":\"5.97 \\\\u00d7 10^24 kg\"},{\"Mars - Earth Comparison\":\"Moons:\",\"Mars\":\"2\",\"Earth\":\"1\"},{\"Mars - Earth Comparison\":\"Distance from Sun:\",\"Mars\":\"227,943,824 km\",\"Earth\":\"149,598,262 km\"},{\"Mars - Earth Comparison\":\"Length of Year:\",\"Mars\":\"687 Earth days\",\"Earth\":\"365.24 days\"},{\"Mars - Earth Comparison\":\"Temperature:\",\"Mars\":\"-153 to 20 \\\\u00b0C\",\"Earth\":\"-88 to 58\\\\u00b0C\"}]'}]"
      ]
     },
     "execution_count": 25,
     "metadata": {},
     "output_type": "execute_result"
    }
   ],
   "source": [
    "data = list(db.data.find())\n",
    "data"
   ]
  },
  {
   "cell_type": "code",
   "execution_count": null,
   "metadata": {},
   "outputs": [],
   "source": []
  },
  {
   "cell_type": "code",
   "execution_count": null,
   "metadata": {},
   "outputs": [],
   "source": []
  }
 ],
 "metadata": {
  "kernelspec": {
   "display_name": "Python 3",
   "language": "python",
   "name": "python3"
  },
  "language_info": {
   "codemirror_mode": {
    "name": "ipython",
    "version": 3
   },
   "file_extension": ".py",
   "mimetype": "text/x-python",
   "name": "python",
   "nbconvert_exporter": "python",
   "pygments_lexer": "ipython3",
   "version": "3.7.3"
  }
 },
 "nbformat": 4,
 "nbformat_minor": 2
}
